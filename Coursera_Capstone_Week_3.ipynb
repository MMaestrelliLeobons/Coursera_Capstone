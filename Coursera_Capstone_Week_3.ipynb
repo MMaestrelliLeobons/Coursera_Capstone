{
 "cells": [
  {
   "cell_type": "markdown",
   "metadata": {},
   "source": [
    "# IBM Applied Data Science Capstone"
   ]
  },
  {
   "cell_type": "markdown",
   "metadata": {},
   "source": [
    "This notebook will be used as the Week 3 Peer Assignment deliverable. "
   ]
  },
  {
   "cell_type": "markdown",
   "metadata": {},
   "source": [
    "### Importing Libraries"
   ]
  },
  {
   "cell_type": "markdown",
   "metadata": {},
   "source": [
    "First, let's download any libraries"
   ]
  },
  {
   "cell_type": "code",
   "execution_count": 3,
   "metadata": {},
   "outputs": [
    {
     "name": "stdout",
     "output_type": "stream",
     "text": [
      "Collecting geopy\n",
      "  Downloading geopy-2.0.0-py3-none-any.whl (111 kB)\n",
      "Collecting geographiclib<2,>=1.49\n",
      "  Downloading geographiclib-1.50-py3-none-any.whl (38 kB)\n",
      "Installing collected packages: geographiclib, geopy\n",
      "Successfully installed geographiclib-1.50 geopy-2.0.0\n",
      "Geopy installed\n"
     ]
    }
   ],
   "source": [
    "!pip install geopy\n",
    "print('Geopy installed!')"
   ]
  },
  {
   "cell_type": "code",
   "execution_count": null,
   "metadata": {},
   "outputs": [],
   "source": [
    "!pip install pgeocode\n",
    "print('PGeocode installed!')"
   ]
  },
  {
   "cell_type": "code",
   "execution_count": 4,
   "metadata": {},
   "outputs": [
    {
     "name": "stdout",
     "output_type": "stream",
     "text": [
      "Collecting folium\n",
      "  Downloading folium-0.11.0-py2.py3-none-any.whl (93 kB)\n",
      "Collecting branca>=0.3.0\n",
      "  Downloading branca-0.4.1-py3-none-any.whl (24 kB)\n",
      "Requirement already satisfied: requests in c:\\users\\marcelomaestrellileo\\anaconda3\\lib\\site-packages (from folium) (2.22.0)\n",
      "Requirement already satisfied: numpy in c:\\users\\marcelomaestrellileo\\anaconda3\\lib\\site-packages (from folium) (1.18.1)\n",
      "Requirement already satisfied: jinja2>=2.9 in c:\\users\\marcelomaestrellileo\\anaconda3\\lib\\site-packages (from folium) (2.11.1)\n",
      "Requirement already satisfied: certifi>=2017.4.17 in c:\\users\\marcelomaestrellileo\\anaconda3\\lib\\site-packages (from requests->folium) (2019.11.28)\n",
      "Requirement already satisfied: idna<2.9,>=2.5 in c:\\users\\marcelomaestrellileo\\anaconda3\\lib\\site-packages (from requests->folium) (2.8)\n",
      "Requirement already satisfied: chardet<3.1.0,>=3.0.2 in c:\\users\\marcelomaestrellileo\\anaconda3\\lib\\site-packages (from requests->folium) (3.0.4)\n",
      "Requirement already satisfied: urllib3!=1.25.0,!=1.25.1,<1.26,>=1.21.1 in c:\\users\\marcelomaestrellileo\\anaconda3\\lib\\site-packages (from requests->folium) (1.25.8)\n",
      "Requirement already satisfied: MarkupSafe>=0.23 in c:\\users\\marcelomaestrellileo\\anaconda3\\lib\\site-packages (from jinja2>=2.9->folium) (1.1.1)\n",
      "Installing collected packages: branca, folium\n",
      "Successfully installed branca-0.4.1 folium-0.11.0\n",
      "Foliium Installed\n"
     ]
    }
   ],
   "source": [
    "!pip install folium\n",
    "print('Foliium Installed!')"
   ]
  },
  {
   "cell_type": "code",
   "execution_count": 5,
   "metadata": {},
   "outputs": [
    {
     "name": "stdout",
     "output_type": "stream",
     "text": [
      "Requirement already satisfied: beautifulsoup4 in c:\\users\\marcelomaestrellileo\\anaconda3\\lib\\site-packages (4.8.2)\n",
      "Requirement already satisfied: soupsieve>=1.2 in c:\\users\\marcelomaestrellileo\\anaconda3\\lib\\site-packages (from beautifulsoup4) (1.9.5)\n",
      "BeautifulSoup installed!\n"
     ]
    }
   ],
   "source": [
    "!pip install beautifulsoup4\n",
    "print('BeautifulSoup installed!')"
   ]
  },
  {
   "cell_type": "code",
   "execution_count": 6,
   "metadata": {},
   "outputs": [
    {
     "name": "stdout",
     "output_type": "stream",
     "text": [
      "Requirement already satisfied: lxml in c:\\users\\marcelomaestrellileo\\anaconda3\\lib\\site-packages (4.5.0)\n"
     ]
    }
   ],
   "source": [
    "!pip install lxml\n",
    "print('lxml installed!')"
   ]
  },
  {
   "cell_type": "markdown",
   "metadata": {},
   "source": [
    "Now, it's time to import the libraries"
   ]
  },
  {
   "cell_type": "code",
   "execution_count": 7,
   "metadata": {},
   "outputs": [
    {
     "name": "stdout",
     "output_type": "stream",
     "text": [
      "Libraries imported.\n"
     ]
    }
   ],
   "source": [
    "import numpy as np # library to handle data in a vectorized manner\n",
    "\n",
    "import pandas as pd # library for data analsysis\n",
    "pd.set_option('display.max_columns', None)\n",
    "pd.set_option('display.max_rows', None)\n",
    "\n",
    "import json # library to handle JSON files\n",
    "\n",
    "from geopy.geocoders import Nominatim # convert an address into latitude and longitude values\n",
    "import pgeocode # convert a postal code into latitude and longitude values\n",
    "\n",
    "import requests # library to handle requests\n",
    "\n",
    "# Matplotlib and associated plotting modules\n",
    "import matplotlib.cm as cm\n",
    "import matplotlib.colors as colors\n",
    "\n",
    "# import k-means from clustering stage\n",
    "from sklearn.cluster import KMeans\n",
    "\n",
    "import folium # map rendering library\n",
    "from bs4 import BeautifulSoup # web scraping library\n",
    "\n",
    "print('Libraries imported.')"
   ]
  },
  {
   "cell_type": "markdown",
   "metadata": {},
   "source": [
    "## 1. Web Scraping"
   ]
  },
  {
   "cell_type": "markdown",
   "metadata": {},
   "source": [
    "We need a list of Toronto's neighborhoods. Since there aren't any clean datasets regarding that, we must collect it by ourselves.\n",
    "\n",
    "Wikipedia has such a list, thus we'll scrape this information using the BeautifulSoup library."
   ]
  },
  {
   "cell_type": "code",
   "execution_count": 9,
   "metadata": {},
   "outputs": [],
   "source": [
    "url = 'https://en.wikipedia.org/wiki/List_of_postal_codes_of_Canada:_M'\n",
    "source = requests.get(url)"
   ]
  },
  {
   "cell_type": "markdown",
   "metadata": {},
   "source": [
    "Create a BeautifulSoup object with the webpage HTML"
   ]
  },
  {
   "cell_type": "code",
   "execution_count": 16,
   "metadata": {},
   "outputs": [],
   "source": [
    "bs = BeautifulSoup(source.content, 'lxml')"
   ]
  },
  {
   "cell_type": "markdown",
   "metadata": {},
   "source": [
    "Find the data we need"
   ]
  },
  {
   "cell_type": "code",
   "execution_count": 22,
   "metadata": {},
   "outputs": [],
   "source": [
    "table = bs.find('table')\n",
    "table_rows = table.find_all('tr')"
   ]
  },
  {
   "cell_type": "markdown",
   "metadata": {},
   "source": [
    "Transform that data into a more pandas-friendly format"
   ]
  },
  {
   "cell_type": "code",
   "execution_count": 23,
   "metadata": {},
   "outputs": [],
   "source": [
    "l = []\n",
    "for tr in table_rows:\n",
    "    td = tr.find_all('td')\n",
    "    row = [tr.text for tr in td]\n",
    "    l.append(row)"
   ]
  },
  {
   "cell_type": "markdown",
   "metadata": {},
   "source": [
    "Create a DataFrame using the list we just created"
   ]
  },
  {
   "cell_type": "code",
   "execution_count": 120,
   "metadata": {},
   "outputs": [
    {
     "data": {
      "text/html": [
       "<div>\n",
       "<style scoped>\n",
       "    .dataframe tbody tr th:only-of-type {\n",
       "        vertical-align: middle;\n",
       "    }\n",
       "\n",
       "    .dataframe tbody tr th {\n",
       "        vertical-align: top;\n",
       "    }\n",
       "\n",
       "    .dataframe thead th {\n",
       "        text-align: right;\n",
       "    }\n",
       "</style>\n",
       "<table border=\"1\" class=\"dataframe\">\n",
       "  <thead>\n",
       "    <tr style=\"text-align: right;\">\n",
       "      <th></th>\n",
       "      <th>Postal Code</th>\n",
       "      <th>Borough</th>\n",
       "      <th>Neighborhood</th>\n",
       "    </tr>\n",
       "  </thead>\n",
       "  <tbody>\n",
       "    <tr>\n",
       "      <th>0</th>\n",
       "      <td>None</td>\n",
       "      <td>None</td>\n",
       "      <td>None</td>\n",
       "    </tr>\n",
       "    <tr>\n",
       "      <th>1</th>\n",
       "      <td>M1A\\n</td>\n",
       "      <td>Not assigned\\n</td>\n",
       "      <td>Not assigned\\n</td>\n",
       "    </tr>\n",
       "    <tr>\n",
       "      <th>2</th>\n",
       "      <td>M2A\\n</td>\n",
       "      <td>Not assigned\\n</td>\n",
       "      <td>Not assigned\\n</td>\n",
       "    </tr>\n",
       "    <tr>\n",
       "      <th>3</th>\n",
       "      <td>M3A\\n</td>\n",
       "      <td>North York\\n</td>\n",
       "      <td>Parkwoods\\n</td>\n",
       "    </tr>\n",
       "    <tr>\n",
       "      <th>4</th>\n",
       "      <td>M4A\\n</td>\n",
       "      <td>North York\\n</td>\n",
       "      <td>Victoria Village\\n</td>\n",
       "    </tr>\n",
       "  </tbody>\n",
       "</table>\n",
       "</div>"
      ],
      "text/plain": [
       "  Postal Code         Borough        Neighborhood\n",
       "0        None            None                None\n",
       "1       M1A\\n  Not assigned\\n      Not assigned\\n\n",
       "2       M2A\\n  Not assigned\\n      Not assigned\\n\n",
       "3       M3A\\n    North York\\n         Parkwoods\\n\n",
       "4       M4A\\n    North York\\n  Victoria Village\\n"
      ]
     },
     "execution_count": 120,
     "metadata": {},
     "output_type": "execute_result"
    }
   ],
   "source": [
    "df = pd.DataFrame(l, columns=['Postal Code','Borough','Neighborhood'])\n",
    "df.head()"
   ]
  },
  {
   "cell_type": "markdown",
   "metadata": {},
   "source": [
    "Seems the data is all there, but we also got a uninvited '\\n'.\n",
    "\n",
    "This means we are gonna need to clean our data. The fastest way to do that is to use a regex."
   ]
  },
  {
   "cell_type": "code",
   "execution_count": 121,
   "metadata": {},
   "outputs": [
    {
     "data": {
      "text/html": [
       "<div>\n",
       "<style scoped>\n",
       "    .dataframe tbody tr th:only-of-type {\n",
       "        vertical-align: middle;\n",
       "    }\n",
       "\n",
       "    .dataframe tbody tr th {\n",
       "        vertical-align: top;\n",
       "    }\n",
       "\n",
       "    .dataframe thead th {\n",
       "        text-align: right;\n",
       "    }\n",
       "</style>\n",
       "<table border=\"1\" class=\"dataframe\">\n",
       "  <thead>\n",
       "    <tr style=\"text-align: right;\">\n",
       "      <th></th>\n",
       "      <th>Postal Code</th>\n",
       "      <th>Borough</th>\n",
       "      <th>Neighborhood</th>\n",
       "    </tr>\n",
       "  </thead>\n",
       "  <tbody>\n",
       "    <tr>\n",
       "      <th>0</th>\n",
       "      <td>None</td>\n",
       "      <td>None</td>\n",
       "      <td>None</td>\n",
       "    </tr>\n",
       "    <tr>\n",
       "      <th>1</th>\n",
       "      <td>M1A</td>\n",
       "      <td>Not assigned</td>\n",
       "      <td>Not assigned</td>\n",
       "    </tr>\n",
       "    <tr>\n",
       "      <th>2</th>\n",
       "      <td>M2A</td>\n",
       "      <td>Not assigned</td>\n",
       "      <td>Not assigned</td>\n",
       "    </tr>\n",
       "    <tr>\n",
       "      <th>3</th>\n",
       "      <td>M3A</td>\n",
       "      <td>North York</td>\n",
       "      <td>Parkwoods</td>\n",
       "    </tr>\n",
       "    <tr>\n",
       "      <th>4</th>\n",
       "      <td>M4A</td>\n",
       "      <td>North York</td>\n",
       "      <td>Victoria Village</td>\n",
       "    </tr>\n",
       "  </tbody>\n",
       "</table>\n",
       "</div>"
      ],
      "text/plain": [
       "  Postal Code       Borough      Neighborhood\n",
       "0        None          None              None\n",
       "1         M1A  Not assigned      Not assigned\n",
       "2         M2A  Not assigned      Not assigned\n",
       "3         M3A    North York         Parkwoods\n",
       "4         M4A    North York  Victoria Village"
      ]
     },
     "execution_count": 121,
     "metadata": {},
     "output_type": "execute_result"
    }
   ],
   "source": [
    "df = df.replace(r'\\n','', regex=True)\n",
    "df.head()"
   ]
  },
  {
   "cell_type": "markdown",
   "metadata": {},
   "source": [
    "We've successfully removed the '\\n'. Nice!\n",
    "\n",
    "Now, it's time to remove that first line since all columns are filled with 'None'."
   ]
  },
  {
   "cell_type": "code",
   "execution_count": 122,
   "metadata": {},
   "outputs": [
    {
     "data": {
      "text/html": [
       "<div>\n",
       "<style scoped>\n",
       "    .dataframe tbody tr th:only-of-type {\n",
       "        vertical-align: middle;\n",
       "    }\n",
       "\n",
       "    .dataframe tbody tr th {\n",
       "        vertical-align: top;\n",
       "    }\n",
       "\n",
       "    .dataframe thead th {\n",
       "        text-align: right;\n",
       "    }\n",
       "</style>\n",
       "<table border=\"1\" class=\"dataframe\">\n",
       "  <thead>\n",
       "    <tr style=\"text-align: right;\">\n",
       "      <th></th>\n",
       "      <th>Postal Code</th>\n",
       "      <th>Borough</th>\n",
       "      <th>Neighborhood</th>\n",
       "    </tr>\n",
       "  </thead>\n",
       "  <tbody>\n",
       "    <tr>\n",
       "      <th>1</th>\n",
       "      <td>M1A</td>\n",
       "      <td>Not assigned</td>\n",
       "      <td>Not assigned</td>\n",
       "    </tr>\n",
       "    <tr>\n",
       "      <th>2</th>\n",
       "      <td>M2A</td>\n",
       "      <td>Not assigned</td>\n",
       "      <td>Not assigned</td>\n",
       "    </tr>\n",
       "    <tr>\n",
       "      <th>3</th>\n",
       "      <td>M3A</td>\n",
       "      <td>North York</td>\n",
       "      <td>Parkwoods</td>\n",
       "    </tr>\n",
       "    <tr>\n",
       "      <th>4</th>\n",
       "      <td>M4A</td>\n",
       "      <td>North York</td>\n",
       "      <td>Victoria Village</td>\n",
       "    </tr>\n",
       "    <tr>\n",
       "      <th>5</th>\n",
       "      <td>M5A</td>\n",
       "      <td>Downtown Toronto</td>\n",
       "      <td>Regent Park, Harbourfront</td>\n",
       "    </tr>\n",
       "  </tbody>\n",
       "</table>\n",
       "</div>"
      ],
      "text/plain": [
       "  Postal Code           Borough               Neighborhood\n",
       "1         M1A      Not assigned               Not assigned\n",
       "2         M2A      Not assigned               Not assigned\n",
       "3         M3A        North York                  Parkwoods\n",
       "4         M4A        North York           Victoria Village\n",
       "5         M5A  Downtown Toronto  Regent Park, Harbourfront"
      ]
     },
     "execution_count": 122,
     "metadata": {},
     "output_type": "execute_result"
    }
   ],
   "source": [
    "df = df.iloc[1:]\n",
    "df.head()"
   ]
  },
  {
   "cell_type": "markdown",
   "metadata": {},
   "source": [
    "Nice work! Now, let's look at our data value.\n",
    "\n",
    "'Not assigned' doesn't mean much to us, does it? Remove it"
   ]
  },
  {
   "cell_type": "code",
   "execution_count": 123,
   "metadata": {},
   "outputs": [
    {
     "data": {
      "text/html": [
       "<div>\n",
       "<style scoped>\n",
       "    .dataframe tbody tr th:only-of-type {\n",
       "        vertical-align: middle;\n",
       "    }\n",
       "\n",
       "    .dataframe tbody tr th {\n",
       "        vertical-align: top;\n",
       "    }\n",
       "\n",
       "    .dataframe thead th {\n",
       "        text-align: right;\n",
       "    }\n",
       "</style>\n",
       "<table border=\"1\" class=\"dataframe\">\n",
       "  <thead>\n",
       "    <tr style=\"text-align: right;\">\n",
       "      <th></th>\n",
       "      <th>Postal Code</th>\n",
       "      <th>Borough</th>\n",
       "      <th>Neighborhood</th>\n",
       "    </tr>\n",
       "  </thead>\n",
       "  <tbody>\n",
       "    <tr>\n",
       "      <th>3</th>\n",
       "      <td>M3A</td>\n",
       "      <td>North York</td>\n",
       "      <td>Parkwoods</td>\n",
       "    </tr>\n",
       "    <tr>\n",
       "      <th>4</th>\n",
       "      <td>M4A</td>\n",
       "      <td>North York</td>\n",
       "      <td>Victoria Village</td>\n",
       "    </tr>\n",
       "    <tr>\n",
       "      <th>5</th>\n",
       "      <td>M5A</td>\n",
       "      <td>Downtown Toronto</td>\n",
       "      <td>Regent Park, Harbourfront</td>\n",
       "    </tr>\n",
       "    <tr>\n",
       "      <th>6</th>\n",
       "      <td>M6A</td>\n",
       "      <td>North York</td>\n",
       "      <td>Lawrence Manor, Lawrence Heights</td>\n",
       "    </tr>\n",
       "    <tr>\n",
       "      <th>7</th>\n",
       "      <td>M7A</td>\n",
       "      <td>Downtown Toronto</td>\n",
       "      <td>Queen's Park, Ontario Provincial Government</td>\n",
       "    </tr>\n",
       "  </tbody>\n",
       "</table>\n",
       "</div>"
      ],
      "text/plain": [
       "  Postal Code           Borough                                 Neighborhood\n",
       "3         M3A        North York                                    Parkwoods\n",
       "4         M4A        North York                             Victoria Village\n",
       "5         M5A  Downtown Toronto                    Regent Park, Harbourfront\n",
       "6         M6A        North York             Lawrence Manor, Lawrence Heights\n",
       "7         M7A  Downtown Toronto  Queen's Park, Ontario Provincial Government"
      ]
     },
     "execution_count": 123,
     "metadata": {},
     "output_type": "execute_result"
    }
   ],
   "source": [
    "df = df[df['Borough'] != 'Not assigned']\n",
    "df.head()"
   ]
  },
  {
   "cell_type": "markdown",
   "metadata": {},
   "source": [
    "Our dataset is looking good. One thing we should look out for is duplicates Postal Codes.\n",
    "\n",
    "To verify that, let's compare the length of the column with the number of distinct Postal Codes."
   ]
  },
  {
   "cell_type": "code",
   "execution_count": 124,
   "metadata": {},
   "outputs": [
    {
     "name": "stdout",
     "output_type": "stream",
     "text": [
      "Column length is 103\n",
      "Number of distinct values is 103\n"
     ]
    }
   ],
   "source": [
    "print('Column length is {}'.format(len(df['Postal Code'])))\n",
    "print('Number of distinct values is {}'.format(df['Postal Code'].nunique()))"
   ]
  },
  {
   "cell_type": "markdown",
   "metadata": {},
   "source": [
    "It's a match! There's no problem after all.\n",
    "\n",
    "Finnaly, let's reset the index and check the size of our data."
   ]
  },
  {
   "cell_type": "code",
   "execution_count": 125,
   "metadata": {},
   "outputs": [
    {
     "data": {
      "text/plain": [
       "(103, 3)"
      ]
     },
     "execution_count": 125,
     "metadata": {},
     "output_type": "execute_result"
    }
   ],
   "source": [
    "df.reset_index(inplace=True,drop=True)\n",
    "df.shape"
   ]
  },
  {
   "cell_type": "markdown",
   "metadata": {},
   "source": [
    "## 2. Get geospacial coordinates"
   ]
  },
  {
   "cell_type": "markdown",
   "metadata": {},
   "source": [
    "In order to use the Foursquare API, we will need the latitude and longitude of each of our neighboors.\n",
    "\n",
    "For that, we'll be using the PGeocoder Python package."
   ]
  },
  {
   "cell_type": "code",
   "execution_count": 88,
   "metadata": {},
   "outputs": [],
   "source": [
    "import pgeocode"
   ]
  },
  {
   "cell_type": "markdown",
   "metadata": {},
   "source": [
    "Set the country to Canada"
   ]
  },
  {
   "cell_type": "code",
   "execution_count": 126,
   "metadata": {},
   "outputs": [],
   "source": [
    "nomi = pgeocode.Nominatim('ca')"
   ]
  },
  {
   "cell_type": "markdown",
   "metadata": {},
   "source": [
    "Let's take a sample to analyse the data structure"
   ]
  },
  {
   "cell_type": "code",
   "execution_count": 152,
   "metadata": {},
   "outputs": [
    {
     "data": {
      "text/plain": [
       "postal_code                                         M5G\n",
       "country code                                         CA\n",
       "place_name        Downtown Toronto (Central Bay Street)\n",
       "state_name                                      Ontario\n",
       "state_code                                           ON\n",
       "county_name                                     Toronto\n",
       "county_code                                 8.13339e+06\n",
       "community_name                                      NaN\n",
       "community_code                                      NaN\n",
       "latitude                                        43.6564\n",
       "longitude                                       -79.386\n",
       "accuracy                                              6\n",
       "Name: 0, dtype: object"
      ]
     },
     "execution_count": 152,
     "metadata": {},
     "output_type": "execute_result"
    }
   ],
   "source": [
    "location = nomi.query_postal_code('M5G')\n",
    "location"
   ]
  },
  {
   "cell_type": "markdown",
   "metadata": {},
   "source": [
    "We are only interested in the latitude and longitude for now.\n",
    "\n",
    "Since there's a limit on how many times we can use geocode, let's store the results in a separate dataframe."
   ]
  },
  {
   "cell_type": "code",
   "execution_count": 127,
   "metadata": {},
   "outputs": [
    {
     "data": {
      "text/html": [
       "<div>\n",
       "<style scoped>\n",
       "    .dataframe tbody tr th:only-of-type {\n",
       "        vertical-align: middle;\n",
       "    }\n",
       "\n",
       "    .dataframe tbody tr th {\n",
       "        vertical-align: top;\n",
       "    }\n",
       "\n",
       "    .dataframe thead th {\n",
       "        text-align: right;\n",
       "    }\n",
       "</style>\n",
       "<table border=\"1\" class=\"dataframe\">\n",
       "  <thead>\n",
       "    <tr style=\"text-align: right;\">\n",
       "      <th></th>\n",
       "      <th>postal_code</th>\n",
       "      <th>country code</th>\n",
       "      <th>place_name</th>\n",
       "      <th>state_name</th>\n",
       "      <th>state_code</th>\n",
       "      <th>county_name</th>\n",
       "      <th>county_code</th>\n",
       "      <th>community_name</th>\n",
       "      <th>community_code</th>\n",
       "      <th>latitude</th>\n",
       "      <th>longitude</th>\n",
       "      <th>accuracy</th>\n",
       "    </tr>\n",
       "  </thead>\n",
       "  <tbody>\n",
       "    <tr>\n",
       "      <th>0</th>\n",
       "      <td>M3A</td>\n",
       "      <td>CA</td>\n",
       "      <td>North York (York Heights / Victoria Village / ...</td>\n",
       "      <td>Ontario</td>\n",
       "      <td>ON</td>\n",
       "      <td>North York</td>\n",
       "      <td>NaN</td>\n",
       "      <td>NaN</td>\n",
       "      <td>NaN</td>\n",
       "      <td>43.7545</td>\n",
       "      <td>-79.3300</td>\n",
       "      <td>1.0</td>\n",
       "    </tr>\n",
       "    <tr>\n",
       "      <th>1</th>\n",
       "      <td>M4A</td>\n",
       "      <td>CA</td>\n",
       "      <td>North York (Sweeney Park / Wigmore Park)</td>\n",
       "      <td>Ontario</td>\n",
       "      <td>ON</td>\n",
       "      <td>NaN</td>\n",
       "      <td>NaN</td>\n",
       "      <td>NaN</td>\n",
       "      <td>NaN</td>\n",
       "      <td>43.7276</td>\n",
       "      <td>-79.3148</td>\n",
       "      <td>6.0</td>\n",
       "    </tr>\n",
       "    <tr>\n",
       "      <th>2</th>\n",
       "      <td>M5A</td>\n",
       "      <td>CA</td>\n",
       "      <td>Downtown Toronto (Regent Park / Port of Toronto)</td>\n",
       "      <td>Ontario</td>\n",
       "      <td>ON</td>\n",
       "      <td>Toronto</td>\n",
       "      <td>8133394.0</td>\n",
       "      <td>NaN</td>\n",
       "      <td>NaN</td>\n",
       "      <td>43.6555</td>\n",
       "      <td>-79.3626</td>\n",
       "      <td>6.0</td>\n",
       "    </tr>\n",
       "    <tr>\n",
       "      <th>3</th>\n",
       "      <td>M6A</td>\n",
       "      <td>CA</td>\n",
       "      <td>North York (Lawrence Manor / Lawrence Heights)</td>\n",
       "      <td>Ontario</td>\n",
       "      <td>ON</td>\n",
       "      <td>North York</td>\n",
       "      <td>NaN</td>\n",
       "      <td>NaN</td>\n",
       "      <td>NaN</td>\n",
       "      <td>43.7223</td>\n",
       "      <td>-79.4504</td>\n",
       "      <td>6.0</td>\n",
       "    </tr>\n",
       "    <tr>\n",
       "      <th>4</th>\n",
       "      <td>M7A</td>\n",
       "      <td>CA</td>\n",
       "      <td>Queen's Park Ontario Provincial Government</td>\n",
       "      <td>Ontario</td>\n",
       "      <td>ON</td>\n",
       "      <td>NaN</td>\n",
       "      <td>NaN</td>\n",
       "      <td>NaN</td>\n",
       "      <td>NaN</td>\n",
       "      <td>43.6641</td>\n",
       "      <td>-79.3889</td>\n",
       "      <td>NaN</td>\n",
       "    </tr>\n",
       "  </tbody>\n",
       "</table>\n",
       "</div>"
      ],
      "text/plain": [
       "  postal_code country code                                         place_name  \\\n",
       "0         M3A           CA  North York (York Heights / Victoria Village / ...   \n",
       "1         M4A           CA           North York (Sweeney Park / Wigmore Park)   \n",
       "2         M5A           CA   Downtown Toronto (Regent Park / Port of Toronto)   \n",
       "3         M6A           CA     North York (Lawrence Manor / Lawrence Heights)   \n",
       "4         M7A           CA         Queen's Park Ontario Provincial Government   \n",
       "\n",
       "  state_name state_code  county_name  county_code  community_name  \\\n",
       "0    Ontario         ON  North York           NaN             NaN   \n",
       "1    Ontario         ON          NaN          NaN             NaN   \n",
       "2    Ontario         ON      Toronto    8133394.0             NaN   \n",
       "3    Ontario         ON  North York           NaN             NaN   \n",
       "4    Ontario         ON          NaN          NaN             NaN   \n",
       "\n",
       "   community_code  latitude  longitude  accuracy  \n",
       "0             NaN   43.7545   -79.3300       1.0  \n",
       "1             NaN   43.7276   -79.3148       6.0  \n",
       "2             NaN   43.6555   -79.3626       6.0  \n",
       "3             NaN   43.7223   -79.4504       6.0  \n",
       "4             NaN   43.6641   -79.3889       NaN  "
      ]
     },
     "execution_count": 127,
     "metadata": {},
     "output_type": "execute_result"
    }
   ],
   "source": [
    "df_ll = df.apply(lambda row: nomi.query_postal_code(row['Postal Code']), axis=1)\n",
    "df_ll.head()"
   ]
  },
  {
   "cell_type": "markdown",
   "metadata": {},
   "source": [
    "Now, we should add those fields to our dataframe"
   ]
  },
  {
   "cell_type": "code",
   "execution_count": 128,
   "metadata": {},
   "outputs": [
    {
     "data": {
      "text/html": [
       "<div>\n",
       "<style scoped>\n",
       "    .dataframe tbody tr th:only-of-type {\n",
       "        vertical-align: middle;\n",
       "    }\n",
       "\n",
       "    .dataframe tbody tr th {\n",
       "        vertical-align: top;\n",
       "    }\n",
       "\n",
       "    .dataframe thead th {\n",
       "        text-align: right;\n",
       "    }\n",
       "</style>\n",
       "<table border=\"1\" class=\"dataframe\">\n",
       "  <thead>\n",
       "    <tr style=\"text-align: right;\">\n",
       "      <th></th>\n",
       "      <th>Postal Code</th>\n",
       "      <th>Borough</th>\n",
       "      <th>Neighborhood</th>\n",
       "      <th>Latitude</th>\n",
       "      <th>Longitude</th>\n",
       "    </tr>\n",
       "  </thead>\n",
       "  <tbody>\n",
       "    <tr>\n",
       "      <th>0</th>\n",
       "      <td>M3A</td>\n",
       "      <td>North York</td>\n",
       "      <td>Parkwoods</td>\n",
       "      <td>43.7545</td>\n",
       "      <td>-79.3300</td>\n",
       "    </tr>\n",
       "    <tr>\n",
       "      <th>1</th>\n",
       "      <td>M4A</td>\n",
       "      <td>North York</td>\n",
       "      <td>Victoria Village</td>\n",
       "      <td>43.7276</td>\n",
       "      <td>-79.3148</td>\n",
       "    </tr>\n",
       "    <tr>\n",
       "      <th>2</th>\n",
       "      <td>M5A</td>\n",
       "      <td>Downtown Toronto</td>\n",
       "      <td>Regent Park, Harbourfront</td>\n",
       "      <td>43.6555</td>\n",
       "      <td>-79.3626</td>\n",
       "    </tr>\n",
       "    <tr>\n",
       "      <th>3</th>\n",
       "      <td>M6A</td>\n",
       "      <td>North York</td>\n",
       "      <td>Lawrence Manor, Lawrence Heights</td>\n",
       "      <td>43.7223</td>\n",
       "      <td>-79.4504</td>\n",
       "    </tr>\n",
       "    <tr>\n",
       "      <th>4</th>\n",
       "      <td>M7A</td>\n",
       "      <td>Downtown Toronto</td>\n",
       "      <td>Queen's Park, Ontario Provincial Government</td>\n",
       "      <td>43.6641</td>\n",
       "      <td>-79.3889</td>\n",
       "    </tr>\n",
       "  </tbody>\n",
       "</table>\n",
       "</div>"
      ],
      "text/plain": [
       "  Postal Code           Borough                                 Neighborhood  \\\n",
       "0         M3A        North York                                    Parkwoods   \n",
       "1         M4A        North York                             Victoria Village   \n",
       "2         M5A  Downtown Toronto                    Regent Park, Harbourfront   \n",
       "3         M6A        North York             Lawrence Manor, Lawrence Heights   \n",
       "4         M7A  Downtown Toronto  Queen's Park, Ontario Provincial Government   \n",
       "\n",
       "   Latitude  Longitude  \n",
       "0   43.7545   -79.3300  \n",
       "1   43.7276   -79.3148  \n",
       "2   43.6555   -79.3626  \n",
       "3   43.7223   -79.4504  \n",
       "4   43.6641   -79.3889  "
      ]
     },
     "execution_count": 128,
     "metadata": {},
     "output_type": "execute_result"
    }
   ],
   "source": [
    "df[['Latitude', 'Longitude']] = df_ll[['latitude','longitude']]\n",
    "df.head()"
   ]
  },
  {
   "cell_type": "markdown",
   "metadata": {},
   "source": [
    "Second task complete! Move on to visualization."
   ]
  },
  {
   "cell_type": "markdown",
   "metadata": {},
   "source": [
    "## 3. Exploring Neighborhoods in Toronto"
   ]
  },
  {
   "cell_type": "markdown",
   "metadata": {},
   "source": [
    "For the final part, let's create a map clustering the neighborhoods of Toronto.\n",
    "\n",
    "First, we should select only the boroughs that relate to Toronto. Postal codes beginning with 'M' are the ones located in Toronto.\n",
    "\n",
    "Also, remove any row with value NaN in Latitude or Longitude."
   ]
  },
  {
   "cell_type": "code",
   "execution_count": 156,
   "metadata": {},
   "outputs": [
    {
     "name": "stdout",
     "output_type": "stream",
     "text": [
      "New dataframe size is: (102, 5)\n"
     ]
    },
    {
     "data": {
      "text/html": [
       "<div>\n",
       "<style scoped>\n",
       "    .dataframe tbody tr th:only-of-type {\n",
       "        vertical-align: middle;\n",
       "    }\n",
       "\n",
       "    .dataframe tbody tr th {\n",
       "        vertical-align: top;\n",
       "    }\n",
       "\n",
       "    .dataframe thead th {\n",
       "        text-align: right;\n",
       "    }\n",
       "</style>\n",
       "<table border=\"1\" class=\"dataframe\">\n",
       "  <thead>\n",
       "    <tr style=\"text-align: right;\">\n",
       "      <th></th>\n",
       "      <th>Postal Code</th>\n",
       "      <th>Borough</th>\n",
       "      <th>Neighborhood</th>\n",
       "      <th>Latitude</th>\n",
       "      <th>Longitude</th>\n",
       "    </tr>\n",
       "  </thead>\n",
       "  <tbody>\n",
       "    <tr>\n",
       "      <th>0</th>\n",
       "      <td>M3A</td>\n",
       "      <td>North York</td>\n",
       "      <td>Parkwoods</td>\n",
       "      <td>43.7545</td>\n",
       "      <td>-79.3300</td>\n",
       "    </tr>\n",
       "    <tr>\n",
       "      <th>1</th>\n",
       "      <td>M4A</td>\n",
       "      <td>North York</td>\n",
       "      <td>Victoria Village</td>\n",
       "      <td>43.7276</td>\n",
       "      <td>-79.3148</td>\n",
       "    </tr>\n",
       "    <tr>\n",
       "      <th>2</th>\n",
       "      <td>M5A</td>\n",
       "      <td>Downtown Toronto</td>\n",
       "      <td>Regent Park, Harbourfront</td>\n",
       "      <td>43.6555</td>\n",
       "      <td>-79.3626</td>\n",
       "    </tr>\n",
       "    <tr>\n",
       "      <th>3</th>\n",
       "      <td>M6A</td>\n",
       "      <td>North York</td>\n",
       "      <td>Lawrence Manor, Lawrence Heights</td>\n",
       "      <td>43.7223</td>\n",
       "      <td>-79.4504</td>\n",
       "    </tr>\n",
       "    <tr>\n",
       "      <th>4</th>\n",
       "      <td>M7A</td>\n",
       "      <td>Downtown Toronto</td>\n",
       "      <td>Queen's Park, Ontario Provincial Government</td>\n",
       "      <td>43.6641</td>\n",
       "      <td>-79.3889</td>\n",
       "    </tr>\n",
       "  </tbody>\n",
       "</table>\n",
       "</div>"
      ],
      "text/plain": [
       "  Postal Code           Borough                                 Neighborhood  \\\n",
       "0         M3A        North York                                    Parkwoods   \n",
       "1         M4A        North York                             Victoria Village   \n",
       "2         M5A  Downtown Toronto                    Regent Park, Harbourfront   \n",
       "3         M6A        North York             Lawrence Manor, Lawrence Heights   \n",
       "4         M7A  Downtown Toronto  Queen's Park, Ontario Provincial Government   \n",
       "\n",
       "   Latitude  Longitude  \n",
       "0   43.7545   -79.3300  \n",
       "1   43.7276   -79.3148  \n",
       "2   43.6555   -79.3626  \n",
       "3   43.7223   -79.4504  \n",
       "4   43.6641   -79.3889  "
      ]
     },
     "execution_count": 156,
     "metadata": {},
     "output_type": "execute_result"
    }
   ],
   "source": [
    "df_to = df[df['Postal Code'].str.startswith('M')]\n",
    "df_to = df_to[~np.isnan(df_to['Latitude'])]\n",
    "df_to = df_to[~np.isnan(df_to['Longitude'])]\n",
    "print('New dataframe size is: {}'.format(df_to.shape))\n",
    "df_to.head()"
   ]
  },
  {
   "cell_type": "markdown",
   "metadata": {},
   "source": [
    "Next, get Toronto's location on the map using geopy"
   ]
  },
  {
   "cell_type": "code",
   "execution_count": 145,
   "metadata": {},
   "outputs": [
    {
     "name": "stdout",
     "output_type": "stream",
     "text": [
      "The geograpical coordinates of Toronto are 43.6534817, -79.3839347.\n"
     ]
    }
   ],
   "source": [
    "address = 'Toronto, ON'\n",
    "\n",
    "geolocator = Nominatim(user_agent = 'ca_explorer')\n",
    "location = geolocator.geocode(address)\n",
    "latitude = location.latitude\n",
    "longitude = location.longitude\n",
    "print('The geograpical coordinates of Toronto are {}, {}.'.format(latitude, longitude))"
   ]
  },
  {
   "cell_type": "markdown",
   "metadata": {},
   "source": [
    "Now, it's time to visualize Toronto and it's clustered neighborhoods"
   ]
  },
  {
   "cell_type": "code",
   "execution_count": 161,
   "metadata": {},
   "outputs": [],
   "source": [
    "map_toronto = folium.Map(location=[latitude, longitude], zoom_start=10)\n",
    "\n",
    "for lat, lng, label in zip(df_to['Latitude'], df_to['Longitude'], df_to['Neighborhood']):\n",
    "    label = folium.Popup(label, parse_html=True)\n",
    "    folium.CircleMarker(\n",
    "        [lat, lng],\n",
    "        radius=5,\n",
    "        popup=label,\n",
    "        color='blue',\n",
    "        fill=True,\n",
    "        fill_color='#3186cc',\n",
    "        fill_opacity=0.7,\n",
    "        parse_html=False).add_to(map_toronto)"
   ]
  },
  {
   "cell_type": "code",
   "execution_count": 162,
   "metadata": {},
   "outputs": [
    {
     "data": {
      "text/html": [
       "<div style=\"width:100%;\"><div style=\"position:relative;width:100%;height:0;padding-bottom:60%;\"><span style=\"color:#565656\">Make this Notebook Trusted to load map: File -> Trust Notebook</span><iframe src=\"about:blank\" style=\"position:absolute;width:100%;height:100%;left:0;top:0;border:none !important;\" data-html=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 onload=\"this.contentDocument.open();this.contentDocument.write(atob(this.getAttribute('data-html')));this.contentDocument.close();\" allowfullscreen webkitallowfullscreen mozallowfullscreen></iframe></div></div>"
      ],
      "text/plain": [
       "<folium.folium.Map at 0x21f67951f88>"
      ]
     },
     "execution_count": 162,
     "metadata": {},
     "output_type": "execute_result"
    }
   ],
   "source": [
    "map_toronto"
   ]
  },
  {
   "cell_type": "code",
   "execution_count": null,
   "metadata": {},
   "outputs": [],
   "source": []
  }
 ],
 "metadata": {
  "kernelspec": {
   "display_name": "Python 3",
   "language": "python",
   "name": "python3"
  },
  "language_info": {
   "codemirror_mode": {
    "name": "ipython",
    "version": 3
   },
   "file_extension": ".py",
   "mimetype": "text/x-python",
   "name": "python",
   "nbconvert_exporter": "python",
   "pygments_lexer": "ipython3",
   "version": "3.7.6"
  }
 },
 "nbformat": 4,
 "nbformat_minor": 4
}
